{
 "cells": [
  {
   "cell_type": "code",
   "execution_count": 2,
   "metadata": {},
   "outputs": [],
   "source": [
    "import os\n",
    "import requests\n",
    "from dotenv import load_dotenv\n",
    "from bs4 import BeautifulSoup\n",
    "from IPython.display import display, Markdown\n",
    "from openai import OpenAI"
   ]
  },
  {
   "cell_type": "code",
   "execution_count": 3,
   "metadata": {},
   "outputs": [],
   "source": [
    "load_dotenv()\n",
    "\n",
    "api_key = os.getenv(\"OPENAI_API_KEY\")\n",
    "\n",
    "if not api_key:\n",
    "    raise ValueError(\"Please set the OPENAI_API_KEY environment variable.\")"
   ]
  },
  {
   "cell_type": "code",
   "execution_count": 5,
   "metadata": {},
   "outputs": [],
   "source": [
    "openai = OpenAI()"
   ]
  },
  {
   "cell_type": "code",
   "execution_count": 7,
   "metadata": {},
   "outputs": [
    {
     "name": "stdout",
     "output_type": "stream",
     "text": [
      "Home - Edward Donner\n",
      "Home\n",
      "Connect Four\n",
      "Outsmart\n",
      "An arena that pits LLMs against each other in a battle of diplomacy and deviousness\n",
      "About\n",
      "Posts\n",
      "Well, hi there.\n",
      "I’m Ed. I like writing code and experimenting with LLMs, and hopefully you’re here because you do too. I also enjoy DJing (but I’m badly out of practice), amateur electronic music production (\n",
      "very\n",
      "amateur) and losing myself in\n",
      "Hacker News\n",
      ", nodding my head sagely to things I only half understand.\n",
      "I’m the co-founder and CTO of\n",
      "Nebula.io\n",
      ". We’re applying AI to\n"
     ]
    }
   ],
   "source": [
    "class Website:\n",
    "    url: str\n",
    "    title: str\n",
    "    text: str\n",
    "\n",
    "    def __init__(self, url):\n",
    "        self.url = url\n",
    "        response = requests.get(url)\n",
    "        soup = BeautifulSoup(response.content, 'html.parser')\n",
    "        self.title = soup.title.string if soup.title else \"No title found\"\n",
    "        for irrelevant in soup.body([\"script\", \"style\", \"img\", \"input\"]):\n",
    "            irrelevant.decompose()\n",
    "        self.text = soup.body.get_text(separator=\"\\n\", strip=True)\n",
    "\n",
    "\n",
    "ed = Website('https://edwarddonner.com')\n",
    "print(ed.title)\n",
    "print(ed.text[:500])  # Print the first 500 characters of the text"
   ]
  },
  {
   "cell_type": "code",
   "execution_count": 9,
   "metadata": {},
   "outputs": [
    {
     "name": "stdout",
     "output_type": "stream",
     "text": [
      "You are looking at a website titled Home - Edward DonnerThe content of the webiste is as follows::                     Please provide a short sumry of this website in markdown.                     If it includes news or announcements, them summarize them too.\n",
      "\n",
      "Home\n",
      "Connect Four\n",
      "Outsmart\n",
      "An arena that pits LLMs against each other in a battle of diplomacy and deviousness\n",
      "About\n",
      "Posts\n",
      "Well, hi there.\n",
      "I’m Ed. I like writing code and experimenting with LLMs, and hopefully you’re here because you do too. I also enjoy DJing (but I’m badly out of practice), amateur electronic music production (\n",
      "very\n",
      "amateur) and losing myself in\n",
      "Hacker News\n",
      ", nodding my head sagely to things I only half understand.\n",
      "I’m the co-founder and CTO of\n",
      "Nebula.io\n",
      ". We’re applying AI to a field where it can make a massive, positive impact: helping people discover their potential and pursue their reason for being. Recruiters use our product today to source, understand, engage and manage talent. I’m previously the founder and CEO of AI startup untapt,\n",
      "acquired in 2021\n",
      ".\n",
      "We work with groundbreaking, proprietary LLMs verticalized for talent, we’ve\n",
      "patented\n",
      "our matching model, and our award-winning platform has happy customers and tons of press coverage.\n",
      "Connect\n",
      "with me for more!\n",
      "May 28, 2025\n",
      "Connecting my courses – become an LLM expert and leader\n",
      "May 18, 2025\n",
      "2025 AI Executive Briefing\n",
      "April 21, 2025\n",
      "The Complete Agentic AI Engineering Course\n",
      "January 23, 2025\n",
      "LLM Workshop – Hands-on with Agents – resources\n",
      "Navigation\n",
      "Home\n",
      "Connect Four\n",
      "Outsmart\n",
      "An arena that pits LLMs against each other in a battle of diplomacy and deviousness\n",
      "About\n",
      "Posts\n",
      "Get in touch\n",
      "ed [at] edwarddonner [dot] com\n",
      "www.edwarddonner.com\n",
      "Follow me\n",
      "LinkedIn\n",
      "Twitter\n",
      "Facebook\n",
      "Subscribe to newsletter\n",
      "Type your email…\n",
      "Subscribe\n"
     ]
    }
   ],
   "source": [
    "system_prompt = \"You are a helpful assistant. You will be given a website URL and its content. Your task is to summarize the content of the website in a concise manner.\"\n",
    "\n",
    "def user_prompt_for(website):\n",
    "    user_prompt = f\"You are looking at a website titled {website.title}\"\n",
    "    user_prompt += \"The content of the webiste is as follows:: \\\n",
    "                    Please provide a short sumry of this website in markdown. \\\n",
    "                    If it includes news or announcements, them summarize them too.\\n\\n\"\n",
    "    user_prompt += website.text\n",
    "    return user_prompt\n",
    "\n",
    "print(user_prompt_for(ed))"
   ]
  },
  {
   "cell_type": "code",
   "execution_count": 10,
   "metadata": {},
   "outputs": [
    {
     "data": {
      "text/plain": [
       "[{'role': 'system',\n",
       "  'content': 'You are a helpful assistant. You will be given a website URL and its content. Your task is to summarize the content of the website in a concise manner.'},\n",
       " {'role': 'user',\n",
       "  'content': 'You are looking at a website titled Home - Edward DonnerThe content of the webiste is as follows::                     Please provide a short sumry of this website in markdown.                     If it includes news or announcements, them summarize them too.\\n\\nHome\\nConnect Four\\nOutsmart\\nAn arena that pits LLMs against each other in a battle of diplomacy and deviousness\\nAbout\\nPosts\\nWell, hi there.\\nI’m Ed. I like writing code and experimenting with LLMs, and hopefully you’re here because you do too. I also enjoy DJing (but I’m badly out of practice), amateur electronic music production (\\nvery\\namateur) and losing myself in\\nHacker News\\n, nodding my head sagely to things I only half understand.\\nI’m the co-founder and CTO of\\nNebula.io\\n. We’re applying AI to a field where it can make a massive, positive impact: helping people discover their potential and pursue their reason for being. Recruiters use our product today to source, understand, engage and manage talent. I’m previously the founder and CEO of AI startup untapt,\\nacquired in 2021\\n.\\nWe work with groundbreaking, proprietary LLMs verticalized for talent, we’ve\\npatented\\nour matching model, and our award-winning platform has happy customers and tons of press coverage.\\nConnect\\nwith me for more!\\nMay 28, 2025\\nConnecting my courses – become an LLM expert and leader\\nMay 18, 2025\\n2025 AI Executive Briefing\\nApril 21, 2025\\nThe Complete Agentic AI Engineering Course\\nJanuary 23, 2025\\nLLM Workshop – Hands-on with Agents – resources\\nNavigation\\nHome\\nConnect Four\\nOutsmart\\nAn arena that pits LLMs against each other in a battle of diplomacy and deviousness\\nAbout\\nPosts\\nGet in touch\\ned [at] edwarddonner [dot] com\\nwww.edwarddonner.com\\nFollow me\\nLinkedIn\\nTwitter\\nFacebook\\nSubscribe to newsletter\\nType your email…\\nSubscribe'}]"
      ]
     },
     "execution_count": 10,
     "metadata": {},
     "output_type": "execute_result"
    }
   ],
   "source": [
    "def messages_for(website):\n",
    "    return [\n",
    "        {\"role\": \"system\", \"content\": system_prompt},\n",
    "        {\"role\": \"user\", \"content\": user_prompt_for(website)}\n",
    "    ]\n",
    "\n",
    "messages_for(ed)"
   ]
  },
  {
   "cell_type": "code",
   "execution_count": 11,
   "metadata": {},
   "outputs": [],
   "source": [
    "def summarize(url):\n",
    "    website = Website(url)\n",
    "    response = openai.chat.completions.create(\n",
    "        model=\"gpt-4o-mini\",\n",
    "        messages=messages_for(website)\n",
    "    )\n",
    "    return response.choices[0].message.content\n"
   ]
  },
  {
   "cell_type": "code",
   "execution_count": 12,
   "metadata": {},
   "outputs": [
    {
     "data": {
      "text/plain": [
       "'# Summary of the Website: Edward Donner\\n\\nEdward Donner\\'s website is a personal platform where he shares his interests, projects, and professional background. Ed is deeply involved in coding and experimenting with Large Language Models (LLMs). He is the co-founder and CTO of Nebula.io, a company focused on using AI to enhance talent discovery and management. Previously, he founded an AI startup called untapt, which was acquired in 2021.\\n\\n## Key Features:\\n- **Connect Four**: A platform designed to challenge LLMs in diplomacy and strategic gameplay.\\n- **About Ed**: A brief introduction to his interests, including coding, electronic music, and engagement with the tech community.\\n- **Professional Experience**: Details his role at Nebula.io and other ventures in AI.\\n- **Contact Information**: Options to connect via email and social media.\\n\\n## Recent Announcements:\\n- **May 28, 2025**: Launching courses aimed at becoming an expert and leader in LLM technology.\\n- **May 18, 2025**: Announcement of the 2025 AI Executive Briefing.\\n- **April 21, 2025**: Completion of the \"Complete Agentic AI Engineering Course\".\\n- **January 23, 2025**: Introduction of resources for the LLM Workshop focusing on hands-on experiences with agents.\\n\\nThe website encourages users to connect with Ed and subscribe to updates.'"
      ]
     },
     "execution_count": 12,
     "metadata": {},
     "output_type": "execute_result"
    }
   ],
   "source": [
    "summarize(\"https://edwarddonner.com\")"
   ]
  },
  {
   "cell_type": "code",
   "execution_count": 13,
   "metadata": {},
   "outputs": [
    {
     "data": {
      "text/markdown": [
       "### Summary of https://edwarddonner.com\n",
       "\n",
       "# Summary of Edward Donner's Website\n",
       "\n",
       "Edward Donner's website provides insights into his work with large language models (LLMs), as well as his background in technology and AI. He is the co-founder and CTO of Nebula.io, a company focused on the transformative potential of AI in talent discovery and management. The site also features his interests such as coding, DJing, and electronic music production, and includes links to social media platforms.\n",
       "\n",
       "## Recent Announcements\n",
       "- **May 28, 2025:** Launch of a course to become an LLM expert and leader.\n",
       "- **May 18, 2025:** Announcement of the 2025 AI Executive Briefing.\n",
       "- **April 21, 2025:** Introduction of the Complete Agentic AI Engineering Course.\n",
       "- **January 23, 2025:** Details about an LLM Workshop focusing on hands-on with agents."
      ],
      "text/plain": [
       "<IPython.core.display.Markdown object>"
      ]
     },
     "metadata": {},
     "output_type": "display_data"
    }
   ],
   "source": [
    "def display_summary(url):\n",
    "    summary = summarize(url)\n",
    "    display(Markdown(f\"### Summary of {url}\\n\\n{summary}\"))\n",
    "display_summary(\"https://edwarddonner.com\")"
   ]
  },
  {
   "cell_type": "code",
   "execution_count": 14,
   "metadata": {},
   "outputs": [
    {
     "data": {
      "text/markdown": [
       "### Summary of https://cnn.com\n",
       "\n",
       "# Summary of CNN Website\n",
       "\n",
       "CNN provides breaking news, latest updates, and a wide variety of content, including politics, business, health, entertainment, sports, science, and climate news. The website is organized into sections that offer comprehensive reporting on critical global issues such as the Ukraine-Russia War and the Israel-Hamas conflict.\n",
       "\n",
       "### Key Features\n",
       "- **Live Updates**: Ongoing coverage on significant events, such as mass shootings and conflicts.\n",
       "- **Sections for Various Topics**: Categories include US news, world news, politics, health, and entertainment.\n",
       "- **Multimedia Content**: Access to live TV, podcasts, and videos.\n",
       "- **Interactive Games**: Features like crosswords and quizzes.\n",
       "- **Feedback Options**: Users can provide feedback on ads and technical issues.\n",
       "\n",
       "### Highlights from Recent Articles\n",
       "- **New York City Shooting**: A gunman killed four people in Midtown, prompting ongoing investigations into the incident.\n",
       "- **Gaza Crisis**: Reports indicate a severe humanitarian crisis in Gaza with over 60,000 fatalities since the start of the conflict.\n",
       "- **Beijing Flooding**: Extreme weather has led to significant flooding in Beijing, causing considerable damage and casualties.\n",
       "- **Alzheimer’s Research**: A study suggests lifestyle changes may help combat early-stage Alzheimer's.\n",
       "\n",
       "For in-depth coverage and updates on current events, users can visit [CNN's website](https://www.cnn.com)."
      ],
      "text/plain": [
       "<IPython.core.display.Markdown object>"
      ]
     },
     "metadata": {},
     "output_type": "display_data"
    }
   ],
   "source": [
    "display_summary(\"https://cnn.com\")"
   ]
  },
  {
   "cell_type": "code",
   "execution_count": 15,
   "metadata": {},
   "outputs": [
    {
     "data": {
      "text/markdown": [
       "### Summary of https://anthropic.com\n",
       "\n",
       "# Summary of Anthropic Website\n",
       "\n",
       "The **Anthropic** website focuses on its AI product **Claude**, highlighting its capabilities, models, and commitment to responsible AI development. Key elements include:\n",
       "\n",
       "## Claude Overview\n",
       "- Claude is designed for safety and human benefit, emphasizing responsible AI technology.\n",
       "- The latest model, **Claude Opus 4**, is now available, along with other models such as **Claude Sonnet 4** and **Claude Haiku 3.5**.\n",
       "\n",
       "## Features\n",
       "- The AI offers various plans (Max, Team, Enterprise) and downloadable apps.\n",
       "- Users can engage with Claude and utilize the API to build AI-powered applications.\n",
       "\n",
       "## Research & Initiatives\n",
       "- Anthropic conducts extensive research on AI safety and its societal impacts, with a focus on long-term well-being.\n",
       "- The site outlines the company's **Responsible Scaling Policy** and emphasizes transparency in AI development.\n",
       "\n",
       "## News & Announcements\n",
       "- Recent announcements include the launch of Claude Opus 4 and ongoing updates on AI safety issues.\n",
       "\n",
       "## Education & Resources\n",
       "- The **Anthropic Academy** provides learning resources for users to understand and build with Claude.\n",
       "\n",
       "## Company Insights\n",
       "- Anthropic highlights its ethics in AI development and provides information about career opportunities, events, and policy initiatives.\n",
       "\n",
       "The site serves as a comprehensive resource for users interested in AI development, integration, and the responsible use of technology."
      ],
      "text/plain": [
       "<IPython.core.display.Markdown object>"
      ]
     },
     "metadata": {},
     "output_type": "display_data"
    }
   ],
   "source": [
    "display_summary(\"https://anthropic.com\")"
   ]
  },
  {
   "cell_type": "code",
   "execution_count": null,
   "metadata": {},
   "outputs": [],
   "source": []
  }
 ],
 "metadata": {
  "kernelspec": {
   "display_name": "llms",
   "language": "python",
   "name": "python3"
  },
  "language_info": {
   "codemirror_mode": {
    "name": "ipython",
    "version": 3
   },
   "file_extension": ".py",
   "mimetype": "text/x-python",
   "name": "python",
   "nbconvert_exporter": "python",
   "pygments_lexer": "ipython3",
   "version": "3.11.13"
  }
 },
 "nbformat": 4,
 "nbformat_minor": 2
}
