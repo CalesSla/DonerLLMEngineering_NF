{
 "cells": [
  {
   "cell_type": "code",
   "execution_count": 1,
   "metadata": {},
   "outputs": [
    {
     "name": "stdout",
     "output_type": "stream",
     "text": [
      "Generative AI has numerous business applications across various industries, including:\n",
      "\n",
      "1. **Content Creation**: Generative AI can generate high-quality content such as articles, social media posts, product descriptions, and even entire books. This can help businesses save time and resources on content creation, while also improving the consistency and quality of their content.\n",
      "2. **Marketing Automation**: Generative AI can be used to create personalized marketing messages, recommend products based on customer behavior, and even generate social media ads.\n",
      "3. **Customer Service Chatbots**: Generative AI can power chatbots that can understand natural language, respond to customer queries, and even resolve simple issues on their own.\n",
      "4. **Product Design and Development**: Generative AI can be used to design new products, such as clothing, furniture, or even entire buildings, by generating 3D models and prototypes.\n",
      "5. **Data Analysis and Visualization**: Generative AI can help analyze large datasets, identify patterns, and visualize complex data in a more intuitive way, making it easier for businesses to make data-driven decisions.\n",
      "6. **Speech Recognition and Synthesis**: Generative AI can be used to improve speech recognition systems, allowing them to better understand human speech and generate high-quality text-to-speech content.\n",
      "7. **Music and Audio Generation**: Generative AI can create original music, sound effects, and even entire audio tracks for films, TV shows, or video games.\n",
      "8. **Image and Video Generation**: Generative AI can create realistic images, videos, and 3D models that can be used in various applications such as advertising, entertainment, and education.\n",
      "9. **Language Translation**: Generative AI can help improve language translation systems by generating high-quality translations, reducing errors, and improving comprehension.\n",
      "10. **Predictive Maintenance**: Generative AI can be used to predict equipment failures, detect anomalies in sensor data, and even generate maintenance schedules for industries such as manufacturing, aerospace, and healthcare.\n",
      "\n",
      "Some specific business use cases include:\n",
      "\n",
      "* Using generative AI to create personalized product recommendations for e-commerce platforms\n",
      "* Developing chatbots that can help customers with simple queries on websites or social media channels\n",
      "* Generating high-quality content for marketing campaigns using generative AI tools\n",
      "* Creating realistic images and videos for advertising, entertainment, or education purposes\n",
      "* Improving customer service experiences by generating personalized responses to common inquiries\n",
      "\n",
      "Overall, the applications of generative AI are vast and continue to expand as the technology improves.\n"
     ]
    }
   ],
   "source": [
    "import requests\n",
    "from bs4 import BeautifulSoup\n",
    "from IPython.display import display, Markdown\n",
    "\n",
    "OLLAMA_API = \"http://localhost:11434/api/chat\"\n",
    "HEADERS  = {\"Content-Type\": \"application/json\"}\n",
    "MODEL = \"llama3.2\"\n",
    "\n",
    "messages = [{\n",
    "    \"role\": \"user\",\n",
    "    \"content\": \"Describe some of the business applications of generative AI.\"\n",
    "}]\n",
    "\n",
    "payload = {\n",
    "    \"model\": MODEL,\n",
    "    \"messages\": messages,\n",
    "    \"stream\": False\n",
    "}\n",
    "\n",
    "response = requests.post(OLLAMA_API, headers=HEADERS, json=payload)\n",
    "print(response.json()['message']['content'])"
   ]
  },
  {
   "cell_type": "code",
   "execution_count": 2,
   "metadata": {},
   "outputs": [
    {
     "name": "stdout",
     "output_type": "stream",
     "text": [
      "Generative AI has numerous business applications across various industries, including:\n",
      "\n",
      "1. **Content Creation**: Generative AI can be used to generate high-quality content such as articles, social media posts, and even entire books. This can help businesses save time and resources while still producing engaging content.\n",
      "2. **Marketing Automation**: Generative AI can be used to create personalized marketing campaigns, product recommendations, and customer personas. This can help businesses personalize their marketing efforts and increase conversion rates.\n",
      "3. **Data Analysis and Visualization**: Generative AI can be used to analyze large datasets and generate visualizations that help businesses understand complex patterns and trends. This can aid in decision-making and strategy development.\n",
      "4. **Product Design**: Generative AI can be used to design new products, such as 3D models, prototypes, and even entire product lines. This can help businesses quickly test and refine their product designs.\n",
      "5. **Customer Service Chatbots**: Generative AI can be used to create chatbots that can respond to customer inquiries, provide support, and resolve issues. This can help businesses improve their customer service experience and reduce response times.\n",
      "6. **Innovation and Idea Generation**: Generative AI can be used to generate new ideas and concepts for businesses. This can help companies come up with innovative solutions to complex problems.\n",
      "7. **Supply Chain Optimization**: Generative AI can be used to analyze supply chain data and optimize logistics, inventory management, and transportation networks. This can help businesses reduce costs, improve efficiency, and increase customer satisfaction.\n",
      "8. **Finance and Risk Analysis**: Generative AI can be used to analyze financial data and identify potential risks and opportunities. This can help businesses make informed investment decisions and mitigate potential losses.\n",
      "9. **Human Resources and Recruitment**: Generative AI can be used to generate personalized job descriptions, candidate profiles, and interview questions. This can help businesses streamline their hiring processes and improve the quality of hire.\n",
      "10. **Product Development and Quality Assurance**: Generative AI can be used to generate test cases, simulate product failures, and identify potential defects. This can help businesses improve product quality, reduce costs, and accelerate time-to-market.\n",
      "\n",
      "These are just a few examples of the many business applications of generative AI. As the technology continues to evolve, we can expect to see even more innovative uses of generative AI in various industries.\n"
     ]
    }
   ],
   "source": [
    "import ollama\n",
    "\n",
    "response = ollama.chat(model=MODEL, messages=messages)\n",
    "print(response['message']['content'])"
   ]
  },
  {
   "cell_type": "code",
   "execution_count": null,
   "metadata": {},
   "outputs": [],
   "source": []
  }
 ],
 "metadata": {
  "kernelspec": {
   "display_name": "llms",
   "language": "python",
   "name": "python3"
  },
  "language_info": {
   "codemirror_mode": {
    "name": "ipython",
    "version": 3
   },
   "file_extension": ".py",
   "mimetype": "text/x-python",
   "name": "python",
   "nbconvert_exporter": "python",
   "pygments_lexer": "ipython3",
   "version": "3.11.13"
  }
 },
 "nbformat": 4,
 "nbformat_minor": 2
}
