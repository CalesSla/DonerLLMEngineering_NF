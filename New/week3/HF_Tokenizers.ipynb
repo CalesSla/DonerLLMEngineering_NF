{
  "cells": [
    {
      "cell_type": "code",
      "execution_count": 20,
      "metadata": {
        "id": "WYUk8h1D1-dm"
      },
      "outputs": [],
      "source": [
        "from google.colab import userdata\n",
        "from huggingface_hub import login\n",
        "from transformers import AutoTokenizer"
      ]
    },
    {
      "cell_type": "code",
      "execution_count": 20,
      "metadata": {
        "id": "YG5jKlUX2798"
      },
      "outputs": [],
      "source": []
    },
    {
      "cell_type": "code",
      "execution_count": 21,
      "metadata": {
        "id": "rfz3vfEc2tuu"
      },
      "outputs": [],
      "source": [
        "hf_token = userdata.get('HF_TOKEN')\n",
        "login(token=hf_token, add_to_git_credential=True)"
      ]
    },
    {
      "cell_type": "code",
      "execution_count": 22,
      "metadata": {
        "id": "IUOjV0hg21IE"
      },
      "outputs": [],
      "source": [
        "tokenizer = AutoTokenizer.from_pretrained('meta-llama/Llama-3.1-8B', trust_remote_code=True)"
      ]
    },
    {
      "cell_type": "code",
      "execution_count": 28,
      "metadata": {
        "colab": {
          "base_uri": "https://localhost:8080/"
        },
        "id": "vqYxIKBJ-FDl",
        "outputId": "4edcdaa3-af49-4a15-f0fc-7f302ab2e4f1"
      },
      "outputs": [
        {
          "data": {
            "text/plain": [
              "[128000, 27588, 4852, 374, 304, 828, 8198]"
            ]
          },
          "execution_count": 28,
          "metadata": {},
          "output_type": "execute_result"
        }
      ],
      "source": [
        "tokenizer.encode(\"Harald is in data science\")"
      ]
    },
    {
      "cell_type": "markdown",
      "metadata": {
        "id": "24bm6wRx-UGe"
      },
      "source": []
    },
    {
      "cell_type": "code",
      "execution_count": 29,
      "metadata": {
        "colab": {
          "base_uri": "https://localhost:8080/",
          "height": 36
        },
        "id": "7WMkOran-Jm7",
        "outputId": "d272656b-42b3-40b4-f863-a1ee8049619a"
      },
      "outputs": [
        {
          "data": {
            "application/vnd.google.colaboratory.intrinsic+json": {
              "type": "string"
            },
            "text/plain": [
              "'<|begin_of_text|>Harals is in data scince'"
            ]
          },
          "execution_count": 29,
          "metadata": {},
          "output_type": "execute_result"
        }
      ],
      "source": [
        "tokenizer.decode([128000, 27588, 1147, 374, 304, 828, 1156, 1736])"
      ]
    },
    {
      "cell_type": "code",
      "execution_count": 14,
      "metadata": {
        "colab": {
          "base_uri": "https://localhost:8080/"
        },
        "id": "qIQmbKB04aQx",
        "outputId": "9359290a-466a-4615-c51e-0a7aec5c5e6a"
      },
      "outputs": [
        {
          "data": {
            "text/plain": [
              "[128000, 9906, 358, 1097, 6995, 2979]"
            ]
          },
          "execution_count": 14,
          "metadata": {},
          "output_type": "execute_result"
        }
      ],
      "source": [
        "tokenizer.encode(\"Hello I am Slava\")"
      ]
    },
    {
      "cell_type": "code",
      "execution_count": 16,
      "metadata": {
        "colab": {
          "base_uri": "https://localhost:8080/",
          "height": 36
        },
        "id": "IItnYORr47bk",
        "outputId": "f015c544-7c60-460d-eb88-30a271dc648f"
      },
      "outputs": [
        {
          "data": {
            "application/vnd.google.colaboratory.intrinsic+json": {
              "type": "string"
            },
            "text/plain": [
              "'<|begin_of_text|>Hello I am Slava'"
            ]
          },
          "execution_count": 16,
          "metadata": {},
          "output_type": "execute_result"
        }
      ],
      "source": [
        "tokenizer.decode([128000, 9906, 358, 1097, 6995, 2979])"
      ]
    },
    {
      "cell_type": "code",
      "execution_count": 18,
      "metadata": {
        "colab": {
          "base_uri": "https://localhost:8080/"
        },
        "id": "cG7E8arI6tn_",
        "outputId": "0c10f42e-be1d-419e-9569-4418ae83fcf2"
      },
      "outputs": [
        {
          "data": {
            "text/plain": [
              "{'<|begin_of_text|>': 128000,\n",
              " '<|end_of_text|>': 128001,\n",
              " '<|reserved_special_token_0|>': 128002,\n",
              " '<|reserved_special_token_1|>': 128003,\n",
              " '<|finetune_right_pad_id|>': 128004,\n",
              " '<|reserved_special_token_2|>': 128005,\n",
              " '<|start_header_id|>': 128006,\n",
              " '<|end_header_id|>': 128007,\n",
              " '<|eom_id|>': 128008,\n",
              " '<|eot_id|>': 128009,\n",
              " '<|python_tag|>': 128010,\n",
              " '<|reserved_special_token_3|>': 128011,\n",
              " '<|reserved_special_token_4|>': 128012,\n",
              " '<|reserved_special_token_5|>': 128013,\n",
              " '<|reserved_special_token_6|>': 128014,\n",
              " '<|reserved_special_token_7|>': 128015,\n",
              " '<|reserved_special_token_8|>': 128016,\n",
              " '<|reserved_special_token_9|>': 128017,\n",
              " '<|reserved_special_token_10|>': 128018,\n",
              " '<|reserved_special_token_11|>': 128019,\n",
              " '<|reserved_special_token_12|>': 128020,\n",
              " '<|reserved_special_token_13|>': 128021,\n",
              " '<|reserved_special_token_14|>': 128022,\n",
              " '<|reserved_special_token_15|>': 128023,\n",
              " '<|reserved_special_token_16|>': 128024,\n",
              " '<|reserved_special_token_17|>': 128025,\n",
              " '<|reserved_special_token_18|>': 128026,\n",
              " '<|reserved_special_token_19|>': 128027,\n",
              " '<|reserved_special_token_20|>': 128028,\n",
              " '<|reserved_special_token_21|>': 128029,\n",
              " '<|reserved_special_token_22|>': 128030,\n",
              " '<|reserved_special_token_23|>': 128031,\n",
              " '<|reserved_special_token_24|>': 128032,\n",
              " '<|reserved_special_token_25|>': 128033,\n",
              " '<|reserved_special_token_26|>': 128034,\n",
              " '<|reserved_special_token_27|>': 128035,\n",
              " '<|reserved_special_token_28|>': 128036,\n",
              " '<|reserved_special_token_29|>': 128037,\n",
              " '<|reserved_special_token_30|>': 128038,\n",
              " '<|reserved_special_token_31|>': 128039,\n",
              " '<|reserved_special_token_32|>': 128040,\n",
              " '<|reserved_special_token_33|>': 128041,\n",
              " '<|reserved_special_token_34|>': 128042,\n",
              " '<|reserved_special_token_35|>': 128043,\n",
              " '<|reserved_special_token_36|>': 128044,\n",
              " '<|reserved_special_token_37|>': 128045,\n",
              " '<|reserved_special_token_38|>': 128046,\n",
              " '<|reserved_special_token_39|>': 128047,\n",
              " '<|reserved_special_token_40|>': 128048,\n",
              " '<|reserved_special_token_41|>': 128049,\n",
              " '<|reserved_special_token_42|>': 128050,\n",
              " '<|reserved_special_token_43|>': 128051,\n",
              " '<|reserved_special_token_44|>': 128052,\n",
              " '<|reserved_special_token_45|>': 128053,\n",
              " '<|reserved_special_token_46|>': 128054,\n",
              " '<|reserved_special_token_47|>': 128055,\n",
              " '<|reserved_special_token_48|>': 128056,\n",
              " '<|reserved_special_token_49|>': 128057,\n",
              " '<|reserved_special_token_50|>': 128058,\n",
              " '<|reserved_special_token_51|>': 128059,\n",
              " '<|reserved_special_token_52|>': 128060,\n",
              " '<|reserved_special_token_53|>': 128061,\n",
              " '<|reserved_special_token_54|>': 128062,\n",
              " '<|reserved_special_token_55|>': 128063,\n",
              " '<|reserved_special_token_56|>': 128064,\n",
              " '<|reserved_special_token_57|>': 128065,\n",
              " '<|reserved_special_token_58|>': 128066,\n",
              " '<|reserved_special_token_59|>': 128067,\n",
              " '<|reserved_special_token_60|>': 128068,\n",
              " '<|reserved_special_token_61|>': 128069,\n",
              " '<|reserved_special_token_62|>': 128070,\n",
              " '<|reserved_special_token_63|>': 128071,\n",
              " '<|reserved_special_token_64|>': 128072,\n",
              " '<|reserved_special_token_65|>': 128073,\n",
              " '<|reserved_special_token_66|>': 128074,\n",
              " '<|reserved_special_token_67|>': 128075,\n",
              " '<|reserved_special_token_68|>': 128076,\n",
              " '<|reserved_special_token_69|>': 128077,\n",
              " '<|reserved_special_token_70|>': 128078,\n",
              " '<|reserved_special_token_71|>': 128079,\n",
              " '<|reserved_special_token_72|>': 128080,\n",
              " '<|reserved_special_token_73|>': 128081,\n",
              " '<|reserved_special_token_74|>': 128082,\n",
              " '<|reserved_special_token_75|>': 128083,\n",
              " '<|reserved_special_token_76|>': 128084,\n",
              " '<|reserved_special_token_77|>': 128085,\n",
              " '<|reserved_special_token_78|>': 128086,\n",
              " '<|reserved_special_token_79|>': 128087,\n",
              " '<|reserved_special_token_80|>': 128088,\n",
              " '<|reserved_special_token_81|>': 128089,\n",
              " '<|reserved_special_token_82|>': 128090,\n",
              " '<|reserved_special_token_83|>': 128091,\n",
              " '<|reserved_special_token_84|>': 128092,\n",
              " '<|reserved_special_token_85|>': 128093,\n",
              " '<|reserved_special_token_86|>': 128094,\n",
              " '<|reserved_special_token_87|>': 128095,\n",
              " '<|reserved_special_token_88|>': 128096,\n",
              " '<|reserved_special_token_89|>': 128097,\n",
              " '<|reserved_special_token_90|>': 128098,\n",
              " '<|reserved_special_token_91|>': 128099,\n",
              " '<|reserved_special_token_92|>': 128100,\n",
              " '<|reserved_special_token_93|>': 128101,\n",
              " '<|reserved_special_token_94|>': 128102,\n",
              " '<|reserved_special_token_95|>': 128103,\n",
              " '<|reserved_special_token_96|>': 128104,\n",
              " '<|reserved_special_token_97|>': 128105,\n",
              " '<|reserved_special_token_98|>': 128106,\n",
              " '<|reserved_special_token_99|>': 128107,\n",
              " '<|reserved_special_token_100|>': 128108,\n",
              " '<|reserved_special_token_101|>': 128109,\n",
              " '<|reserved_special_token_102|>': 128110,\n",
              " '<|reserved_special_token_103|>': 128111,\n",
              " '<|reserved_special_token_104|>': 128112,\n",
              " '<|reserved_special_token_105|>': 128113,\n",
              " '<|reserved_special_token_106|>': 128114,\n",
              " '<|reserved_special_token_107|>': 128115,\n",
              " '<|reserved_special_token_108|>': 128116,\n",
              " '<|reserved_special_token_109|>': 128117,\n",
              " '<|reserved_special_token_110|>': 128118,\n",
              " '<|reserved_special_token_111|>': 128119,\n",
              " '<|reserved_special_token_112|>': 128120,\n",
              " '<|reserved_special_token_113|>': 128121,\n",
              " '<|reserved_special_token_114|>': 128122,\n",
              " '<|reserved_special_token_115|>': 128123,\n",
              " '<|reserved_special_token_116|>': 128124,\n",
              " '<|reserved_special_token_117|>': 128125,\n",
              " '<|reserved_special_token_118|>': 128126,\n",
              " '<|reserved_special_token_119|>': 128127,\n",
              " '<|reserved_special_token_120|>': 128128,\n",
              " '<|reserved_special_token_121|>': 128129,\n",
              " '<|reserved_special_token_122|>': 128130,\n",
              " '<|reserved_special_token_123|>': 128131,\n",
              " '<|reserved_special_token_124|>': 128132,\n",
              " '<|reserved_special_token_125|>': 128133,\n",
              " '<|reserved_special_token_126|>': 128134,\n",
              " '<|reserved_special_token_127|>': 128135,\n",
              " '<|reserved_special_token_128|>': 128136,\n",
              " '<|reserved_special_token_129|>': 128137,\n",
              " '<|reserved_special_token_130|>': 128138,\n",
              " '<|reserved_special_token_131|>': 128139,\n",
              " '<|reserved_special_token_132|>': 128140,\n",
              " '<|reserved_special_token_133|>': 128141,\n",
              " '<|reserved_special_token_134|>': 128142,\n",
              " '<|reserved_special_token_135|>': 128143,\n",
              " '<|reserved_special_token_136|>': 128144,\n",
              " '<|reserved_special_token_137|>': 128145,\n",
              " '<|reserved_special_token_138|>': 128146,\n",
              " '<|reserved_special_token_139|>': 128147,\n",
              " '<|reserved_special_token_140|>': 128148,\n",
              " '<|reserved_special_token_141|>': 128149,\n",
              " '<|reserved_special_token_142|>': 128150,\n",
              " '<|reserved_special_token_143|>': 128151,\n",
              " '<|reserved_special_token_144|>': 128152,\n",
              " '<|reserved_special_token_145|>': 128153,\n",
              " '<|reserved_special_token_146|>': 128154,\n",
              " '<|reserved_special_token_147|>': 128155,\n",
              " '<|reserved_special_token_148|>': 128156,\n",
              " '<|reserved_special_token_149|>': 128157,\n",
              " '<|reserved_special_token_150|>': 128158,\n",
              " '<|reserved_special_token_151|>': 128159,\n",
              " '<|reserved_special_token_152|>': 128160,\n",
              " '<|reserved_special_token_153|>': 128161,\n",
              " '<|reserved_special_token_154|>': 128162,\n",
              " '<|reserved_special_token_155|>': 128163,\n",
              " '<|reserved_special_token_156|>': 128164,\n",
              " '<|reserved_special_token_157|>': 128165,\n",
              " '<|reserved_special_token_158|>': 128166,\n",
              " '<|reserved_special_token_159|>': 128167,\n",
              " '<|reserved_special_token_160|>': 128168,\n",
              " '<|reserved_special_token_161|>': 128169,\n",
              " '<|reserved_special_token_162|>': 128170,\n",
              " '<|reserved_special_token_163|>': 128171,\n",
              " '<|reserved_special_token_164|>': 128172,\n",
              " '<|reserved_special_token_165|>': 128173,\n",
              " '<|reserved_special_token_166|>': 128174,\n",
              " '<|reserved_special_token_167|>': 128175,\n",
              " '<|reserved_special_token_168|>': 128176,\n",
              " '<|reserved_special_token_169|>': 128177,\n",
              " '<|reserved_special_token_170|>': 128178,\n",
              " '<|reserved_special_token_171|>': 128179,\n",
              " '<|reserved_special_token_172|>': 128180,\n",
              " '<|reserved_special_token_173|>': 128181,\n",
              " '<|reserved_special_token_174|>': 128182,\n",
              " '<|reserved_special_token_175|>': 128183,\n",
              " '<|reserved_special_token_176|>': 128184,\n",
              " '<|reserved_special_token_177|>': 128185,\n",
              " '<|reserved_special_token_178|>': 128186,\n",
              " '<|reserved_special_token_179|>': 128187,\n",
              " '<|reserved_special_token_180|>': 128188,\n",
              " '<|reserved_special_token_181|>': 128189,\n",
              " '<|reserved_special_token_182|>': 128190,\n",
              " '<|reserved_special_token_183|>': 128191,\n",
              " '<|reserved_special_token_184|>': 128192,\n",
              " '<|reserved_special_token_185|>': 128193,\n",
              " '<|reserved_special_token_186|>': 128194,\n",
              " '<|reserved_special_token_187|>': 128195,\n",
              " '<|reserved_special_token_188|>': 128196,\n",
              " '<|reserved_special_token_189|>': 128197,\n",
              " '<|reserved_special_token_190|>': 128198,\n",
              " '<|reserved_special_token_191|>': 128199,\n",
              " '<|reserved_special_token_192|>': 128200,\n",
              " '<|reserved_special_token_193|>': 128201,\n",
              " '<|reserved_special_token_194|>': 128202,\n",
              " '<|reserved_special_token_195|>': 128203,\n",
              " '<|reserved_special_token_196|>': 128204,\n",
              " '<|reserved_special_token_197|>': 128205,\n",
              " '<|reserved_special_token_198|>': 128206,\n",
              " '<|reserved_special_token_199|>': 128207,\n",
              " '<|reserved_special_token_200|>': 128208,\n",
              " '<|reserved_special_token_201|>': 128209,\n",
              " '<|reserved_special_token_202|>': 128210,\n",
              " '<|reserved_special_token_203|>': 128211,\n",
              " '<|reserved_special_token_204|>': 128212,\n",
              " '<|reserved_special_token_205|>': 128213,\n",
              " '<|reserved_special_token_206|>': 128214,\n",
              " '<|reserved_special_token_207|>': 128215,\n",
              " '<|reserved_special_token_208|>': 128216,\n",
              " '<|reserved_special_token_209|>': 128217,\n",
              " '<|reserved_special_token_210|>': 128218,\n",
              " '<|reserved_special_token_211|>': 128219,\n",
              " '<|reserved_special_token_212|>': 128220,\n",
              " '<|reserved_special_token_213|>': 128221,\n",
              " '<|reserved_special_token_214|>': 128222,\n",
              " '<|reserved_special_token_215|>': 128223,\n",
              " '<|reserved_special_token_216|>': 128224,\n",
              " '<|reserved_special_token_217|>': 128225,\n",
              " '<|reserved_special_token_218|>': 128226,\n",
              " '<|reserved_special_token_219|>': 128227,\n",
              " '<|reserved_special_token_220|>': 128228,\n",
              " '<|reserved_special_token_221|>': 128229,\n",
              " '<|reserved_special_token_222|>': 128230,\n",
              " '<|reserved_special_token_223|>': 128231,\n",
              " '<|reserved_special_token_224|>': 128232,\n",
              " '<|reserved_special_token_225|>': 128233,\n",
              " '<|reserved_special_token_226|>': 128234,\n",
              " '<|reserved_special_token_227|>': 128235,\n",
              " '<|reserved_special_token_228|>': 128236,\n",
              " '<|reserved_special_token_229|>': 128237,\n",
              " '<|reserved_special_token_230|>': 128238,\n",
              " '<|reserved_special_token_231|>': 128239,\n",
              " '<|reserved_special_token_232|>': 128240,\n",
              " '<|reserved_special_token_233|>': 128241,\n",
              " '<|reserved_special_token_234|>': 128242,\n",
              " '<|reserved_special_token_235|>': 128243,\n",
              " '<|reserved_special_token_236|>': 128244,\n",
              " '<|reserved_special_token_237|>': 128245,\n",
              " '<|reserved_special_token_238|>': 128246,\n",
              " '<|reserved_special_token_239|>': 128247,\n",
              " '<|reserved_special_token_240|>': 128248,\n",
              " '<|reserved_special_token_241|>': 128249,\n",
              " '<|reserved_special_token_242|>': 128250,\n",
              " '<|reserved_special_token_243|>': 128251,\n",
              " '<|reserved_special_token_244|>': 128252,\n",
              " '<|reserved_special_token_245|>': 128253,\n",
              " '<|reserved_special_token_246|>': 128254,\n",
              " '<|reserved_special_token_247|>': 128255}"
            ]
          },
          "execution_count": 18,
          "metadata": {},
          "output_type": "execute_result"
        }
      ],
      "source": [
        "tokenizer.get_added_vocab()"
      ]
    },
    {
      "cell_type": "markdown",
      "metadata": {
        "id": "U39IZ6yA_aEF"
      },
      "source": []
    },
    {
      "cell_type": "code",
      "execution_count": 33,
      "metadata": {
        "id": "khWGMk-X6zhS"
      },
      "outputs": [],
      "source": [
        "tokenizer = AutoTokenizer.from_pretrained('meta-llama/Llama-3.1-8B-Instruct', trust_remote_code=True)"
      ]
    },
    {
      "cell_type": "code",
      "execution_count": 34,
      "metadata": {
        "colab": {
          "base_uri": "https://localhost:8080/"
        },
        "id": "5sX8ERbC9WMQ",
        "outputId": "68113175-8eae-45e5-a115-bde718b6dca9"
      },
      "outputs": [
        {
          "name": "stdout",
          "output_type": "stream",
          "text": [
            "<|begin_of_text|><|start_header_id|>system<|end_header_id|>\n",
            "\n",
            "Cutting Knowledge Date: December 2023\n",
            "Today Date: 26 Jul 2024\n",
            "\n",
            "You are a helpful assistant.<|eot_id|><|start_header_id|>user<|end_header_id|>\n",
            "\n",
            "Tell a light-hearted joke for a room of Data Scientists<|eot_id|><|start_header_id|>assistant<|end_header_id|>\n",
            "\n",
            "\n"
          ]
        }
      ],
      "source": [
        "messages = [\n",
        "    {\"role\": \"system\", \"content\": \"You are a helpful assistant.\"},\n",
        "    {\"role\": \"user\", \"content\": \"Tell a light-hearted joke for a room of Data Scientists\"}\n",
        "]\n",
        "\n",
        "prompt = tokenizer.apply_chat_template(messages, tokenize=False, add_generation_prompt=True)\n",
        "print(prompt)"
      ]
    },
    {
      "cell_type": "code",
      "execution_count": 35,
      "metadata": {
        "id": "--9Dv7HL_S2Z"
      },
      "outputs": [],
      "source": [
        "PHI3_MODEL_NAME = \"microsoft/Phi-3-mini-4k-instruct\"\n",
        "QWEN2_MODEL_NAME = \"Qwen/Qwen2-7B-Instruct\"\n",
        "STARCODER2_MODEL_NAME = \"bigcode/starcoder2-3b\""
      ]
    },
    {
      "cell_type": "code",
      "execution_count": 42,
      "metadata": {
        "colab": {
          "base_uri": "https://localhost:8080/"
        },
        "id": "V2hnCDGUErRQ",
        "outputId": "8e8f3f0f-0640-463e-8653-09835da205d0"
      },
      "outputs": [
        {
          "name": "stdout",
          "output_type": "stream",
          "text": [
            "[128000, 40, 1097, 12304, 311, 1501, 9857, 12509, 304, 1957, 311, 856, 445, 11237, 25175]\n",
            "\n",
            "[306, 626, 24173, 304, 1510, 25159, 19427, 297, 3158, 304, 590, 365, 26369, 6012, 414]\n"
          ]
        }
      ],
      "source": [
        "phi3_tokenizer = AutoTokenizer.from_pretrained(PHI3_MODEL_NAME, trust_remote_code=True)\n",
        "\n",
        "text = \"I am excited to show Tokenizers in action to my LLM engineers\"\n",
        "print(tokenizer.encode(text))\n",
        "print()\n",
        "tokens = phi3_tokenizer.encode(text)\n",
        "print(phi3_tokenizer.encode(text))"
      ]
    },
    {
      "cell_type": "code",
      "execution_count": 43,
      "metadata": {
        "colab": {
          "base_uri": "https://localhost:8080/"
        },
        "id": "qs7NSmtJE8cA",
        "outputId": "7038c1b4-f00c-41d9-b615-d73a3ded4cad"
      },
      "outputs": [
        {
          "name": "stdout",
          "output_type": "stream",
          "text": [
            "[40, 1079, 12035, 311, 1473, 9660, 12230, 304, 1917, 311, 847, 444, 10994, 24198]\n"
          ]
        }
      ],
      "source": [
        "qwen2_tokenizer = AutoTokenizer.from_pretrained(QWEN2_MODEL_NAME, trust_remote_code=True)\n",
        "print(qwen2_tokenizer.encode(text))"
      ]
    },
    {
      "cell_type": "code",
      "execution_count": 44,
      "metadata": {
        "colab": {
          "base_uri": "https://localhost:8080/"
        },
        "id": "l4PHxJC0FAOl",
        "outputId": "cda831d7-bdcf-4f13-e7c9-8f649007fcc3"
      },
      "outputs": [
        {
          "name": "stdout",
          "output_type": "stream",
          "text": [
            "[78, 3874, 13511, 13625, 391, 2539, 6520, 9266, 347, 2146, 391, 1690, 14325, 82, 6894, 502]\n"
          ]
        }
      ],
      "source": [
        "starcoder2_tokenizer = AutoTokenizer.from_pretrained(STARCODER2_MODEL_NAME, trust_remote_code=True)\n",
        "print(starcoder2_tokenizer.encode(text))"
      ]
    },
    {
      "cell_type": "code",
      "execution_count": 48,
      "metadata": {
        "colab": {
          "base_uri": "https://localhost:8080/"
        },
        "id": "ESaruBdvFDQQ",
        "outputId": "f1a70037-7041-4d3b-e33d-f77c74d85220"
      },
      "outputs": [
        {
          "name": "stdout",
          "output_type": "stream",
          "text": [
            "['I', 'am', 'excited', 'to', 'show', 'Token', 'izers', 'in', 'action', 'to', 'my', 'L', 'LM', 'engine', 'ers']\n"
          ]
        }
      ],
      "source": [
        "print(phi3_tokenizer.batch_decode(tokens))"
      ]
    },
    {
      "cell_type": "code",
      "execution_count": 51,
      "metadata": {
        "colab": {
          "base_uri": "https://localhost:8080/"
        },
        "id": "GutLTtoXFVnh",
        "outputId": "ccb27988-bcdc-45f5-86f9-f54694883629"
      },
      "outputs": [
        {
          "name": "stdout",
          "output_type": "stream",
          "text": [
            "<|begin_of_text|><|start_header_id|>system<|end_header_id|>\n",
            "\n",
            "Cutting Knowledge Date: December 2023\n",
            "Today Date: 26 Jul 2024\n",
            "\n",
            "You are a helpful assistant.<|eot_id|><|start_header_id|>user<|end_header_id|>\n",
            "\n",
            "Tell a light-hearted joke for a room of Data Scientists<|eot_id|><|start_header_id|>assistant<|end_header_id|>\n",
            "\n",
            "\n",
            "\n",
            "<|system|>\n",
            "You are a helpful assistant.<|end|>\n",
            "<|user|>\n",
            "Tell a light-hearted joke for a room of Data Scientists<|end|>\n",
            "<|assistant|>\n",
            "\n",
            "\n",
            "<|im_start|>system\n",
            "You are a helpful assistant.<|im_end|>\n",
            "<|im_start|>user\n",
            "Tell a light-hearted joke for a room of Data Scientists<|im_end|>\n",
            "<|im_start|>assistant\n",
            "\n",
            "\n"
          ]
        }
      ],
      "source": [
        "print(tokenizer.apply_chat_template(messages, tokenize=False, add_generation_prompt=True))\n",
        "print()\n",
        "print(phi3_tokenizer.apply_chat_template(messages, tokenize=False, add_generation_prompt=True))\n",
        "print()\n",
        "print(qwen2_tokenizer.apply_chat_template(messages, tokenize=False, add_generation_prompt=True))\n",
        "print()\n",
        "# print(starcoder2_tokenizer.apply_chat_template(messages, tokenize=False, add_generation_prompt=True))"
      ]
    },
    {
      "cell_type": "code",
      "execution_count": 53,
      "metadata": {
        "colab": {
          "base_uri": "https://localhost:8080/"
        },
        "id": "iozDqiE7HQId",
        "outputId": "9d49d5ee-103b-4c16-a079-be9b56fae549"
      },
      "outputs": [
        {
          "name": "stdout",
          "output_type": "stream",
          "text": [
            "222=\n",
            "\n",
            "610=def\n",
            "17966= hello\n",
            "100=_\n",
            "5879=world\n",
            "45=(\n",
            "6427=person\n",
            "731=):\n",
            "353=\n",
            " \n",
            "1489= print\n",
            "459=(\"\n",
            "8302=Hello\n",
            "411=\",\n",
            "4944= person\n",
            "46=)\n",
            "222=\n",
            "\n"
          ]
        }
      ],
      "source": [
        "starcoder2_tokenizer = AutoTokenizer.from_pretrained(STARCODER2_MODEL_NAME, trust_remote_code=True)\n",
        "code = \"\"\"\n",
        "def hello_world(person):\n",
        "  print(\"Hello\", person)\n",
        "\"\"\"\n",
        "\n",
        "tokens = starcoder2_tokenizer.encode(code)\n",
        "for token in tokens:\n",
        "  print(f\"{token}={starcoder2_tokenizer.decode(token)}\")"
      ]
    },
    {
      "cell_type": "code",
      "execution_count": null,
      "metadata": {
        "id": "0xJbTEQtHq3l"
      },
      "outputs": [],
      "source": []
    }
  ],
  "metadata": {
    "colab": {
      "provenance": []
    },
    "kernelspec": {
      "display_name": "Python 3",
      "name": "python3"
    },
    "language_info": {
      "name": "python"
    }
  },
  "nbformat": 4,
  "nbformat_minor": 0
}
